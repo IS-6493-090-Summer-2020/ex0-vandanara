{
 "cells": [
  {
   "cell_type": "markdown",
   "metadata": {},
   "source": [
    "# EXERCISE 0 : Markdown"
   ]
  },
  {
   "cell_type": "raw",
   "metadata": {},
   "source": [
    "In this exercise, you will practice writing some Markdown. The file contains cells with tasks followed by an empty cell for you to practice writing Markdown. "
   ]
  },
  {
   "cell_type": "markdown",
   "metadata": {},
   "source": [
    "## TASK 1. "
   ]
  },
  {
   "cell_type": "raw",
   "metadata": {},
   "source": [
    "Create 3 headings in decreasing font size. \n",
    "The first heading should be a level 1 heading, and should say: TITLE\n",
    "The second heading a level 2 heading, and should say: This is a markdown cell - it allows us to write formatted text within a Notebook.\n",
    "The 3rd heading is a level 3 heading, and should say: This is a smaller size font.\n",
    "\n",
    "Provide your answer in the following cell."
   ]
  },
  {
   "cell_type": "markdown",
   "metadata": {
    "slideshow": {
     "slide_type": "slide"
    }
   },
   "source": []
  },
  {
   "cell_type": "markdown",
   "metadata": {},
   "source": [
    "## TASK 2."
   ]
  },
  {
   "cell_type": "raw",
   "metadata": {},
   "source": [
    "Write three lines of text with an empty line between each. The first line should be in italic, the second should be in bold, and the third should be both bold and italic. The content of the lines is given below.\n",
    "\n",
    "this text is in italic\n",
    "this text is bold\n",
    "this text is in italic and bold\n",
    "\n",
    "Provide your answer in the following cell."
   ]
  },
  {
   "cell_type": "markdown",
   "metadata": {
    "slideshow": {
     "slide_type": "slide"
    }
   },
   "source": []
  },
  {
   "cell_type": "markdown",
   "metadata": {},
   "source": [
    "## TASK 3. "
   ]
  },
  {
   "cell_type": "raw",
   "metadata": {},
   "source": [
    "Write two lines with no extra line between them.\n",
    "The content of the first line is: This is just regular text.\n",
    "The word regular should be bold and italic (in markdown)\n",
    "\n",
    "The content of the second line is: You can use Markdown syntax as well as some html in a Markdown cell.\n",
    "The word html should be bold, underlined and italicized using html tags (not markdown).\n",
    "\n",
    "Provide your answer in the following cell."
   ]
  },
  {
   "cell_type": "markdown",
   "metadata": {},
   "source": []
  },
  {
   "cell_type": "markdown",
   "metadata": {},
   "source": [
    "## TASK 4. "
   ]
  },
  {
   "cell_type": "raw",
   "metadata": {},
   "source": [
    "Write two equations.\n",
    "The first line should contain only the equation: x + y = 10\n",
    "Leave a line in between.\n",
    "The second line should say: The equation is a^2 + b = 25\n",
    "where the second equation should be displayed centered on its own line\n",
    "\n",
    "Provide your answer in the cell below."
   ]
  },
  {
   "cell_type": "markdown",
   "metadata": {
    "slideshow": {
     "slide_type": "slide"
    }
   },
   "source": []
  },
  {
   "cell_type": "markdown",
   "metadata": {},
   "source": [
    "## TASK 5."
   ]
  },
  {
   "cell_type": "raw",
   "metadata": {},
   "source": [
    "Write the following text: Please click on this link to download Anaconda.\n",
    "The word Anaconda should be a hyperlink to https://www.anaconda.com/distribution/\n",
    "\n",
    "Provide your answer in the cell below."
   ]
  },
  {
   "cell_type": "markdown",
   "metadata": {
    "slideshow": {
     "slide_type": "slide"
    }
   },
   "source": []
  },
  {
   "cell_type": "markdown",
   "metadata": {},
   "source": [
    "## TASK 6."
   ]
  },
  {
   "cell_type": "raw",
   "metadata": {},
   "source": [
    "Create an ordered list with a level 3 heading: My List\n",
    "It contains 2 numbered elements - 1. jam, 2. butter\n",
    "The 2 items should appear on two different lines.\n",
    "\n",
    "Provide your answer in the cell below."
   ]
  },
  {
   "cell_type": "markdown",
   "metadata": {
    "slideshow": {
     "slide_type": "fragment"
    }
   },
   "source": []
  },
  {
   "cell_type": "markdown",
   "metadata": {},
   "source": [
    "## TASK 7."
   ]
  },
  {
   "cell_type": "raw",
   "metadata": {},
   "source": [
    "Create an unordered list with 3 items\n",
    "first item, second item and third item.\n",
    "The second item also contains two sub-items that are indented and on their own lines: second-one and second-two.\n",
    "\n",
    "Provide your answer in the cell below."
   ]
  },
  {
   "cell_type": "markdown",
   "metadata": {
    "slideshow": {
     "slide_type": "fragment"
    }
   },
   "source": []
  },
  {
   "cell_type": "markdown",
   "metadata": {},
   "source": [
    "## TASK 8."
   ]
  },
  {
   "cell_type": "raw",
   "metadata": {},
   "source": [
    "Write a quote you like. Title it in level 2 heading as A Quote I like.\n",
    "Use blockquotes.\n",
    "\n",
    "Provide your answer in the cell below."
   ]
  },
  {
   "cell_type": "markdown",
   "metadata": {
    "slideshow": {
     "slide_type": "slide"
    }
   },
   "source": []
  },
  {
   "cell_type": "markdown",
   "metadata": {},
   "source": [
    "## TASK 9."
   ]
  },
  {
   "cell_type": "raw",
   "metadata": {},
   "source": [
    "Write a span of code (block of text that is highlighted in gray). It should say: In Python, here is how to print some text. \n",
    "On the next line: print(\"some text\")\n",
    "Enter an empty line\n",
    "Then enter a code block (each line below is indented by four spaces or a single tab) which says: \n",
    "Python is a great first language. \n",
    "Python is the \"most powerful language you can still read\".\n",
    "\n",
    "Provide your answer in the cell below."
   ]
  },
  {
   "cell_type": "markdown",
   "metadata": {
    "slideshow": {
     "slide_type": "slide"
    }
   },
   "source": []
  },
  {
   "cell_type": "markdown",
   "metadata": {},
   "source": [
    "## TASK 10."
   ]
  },
  {
   "cell_type": "markdown",
   "metadata": {},
   "source": [
    "Write your first name in between a pair of asterisks\n",
    "*yourname*\n",
    "your name should be in bold.\n",
    "\n",
    "Provide your answer in the cell below."
   ]
  },
  {
   "cell_type": "markdown",
   "metadata": {},
   "source": []
  },
  {
   "cell_type": "markdown",
   "metadata": {},
   "source": [
    "## TASK 11."
   ]
  },
  {
   "cell_type": "raw",
   "metadata": {},
   "source": [
    "Draw  a horizontal rule.\n",
    "\n",
    "Provide your answer in the cell below."
   ]
  },
  {
   "cell_type": "markdown",
   "metadata": {},
   "source": []
  },
  {
   "cell_type": "markdown",
   "metadata": {
    "slideshow": {
     "slide_type": "slide"
    }
   },
   "source": [
    "-----"
   ]
  }
 ],
 "metadata": {
  "hide_input": false,
  "kernelspec": {
   "display_name": "Python 3",
   "language": "python",
   "name": "python3"
  },
  "language_info": {
   "codemirror_mode": {
    "name": "ipython",
    "version": 3
   },
   "file_extension": ".py",
   "mimetype": "text/x-python",
   "name": "python",
   "nbconvert_exporter": "python",
   "pygments_lexer": "ipython3",
   "version": "3.7.4"
  },
  "varInspector": {
   "cols": {
    "lenName": 16,
    "lenType": 16,
    "lenVar": 40
   },
   "kernels_config": {
    "python": {
     "delete_cmd_postfix": "",
     "delete_cmd_prefix": "del ",
     "library": "var_list.py",
     "varRefreshCmd": "print(var_dic_list())"
    },
    "r": {
     "delete_cmd_postfix": ") ",
     "delete_cmd_prefix": "rm(",
     "library": "var_list.r",
     "varRefreshCmd": "cat(var_dic_list()) "
    }
   },
   "position": {
    "height": "470.35px",
    "left": "1855px",
    "right": "20px",
    "top": "143px",
    "width": "500.5px"
   },
   "types_to_exclude": [
    "module",
    "function",
    "builtin_function_or_method",
    "instance",
    "_Feature"
   ],
   "window_display": true
  }
 },
 "nbformat": 4,
 "nbformat_minor": 4
}
